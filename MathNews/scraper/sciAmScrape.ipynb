{
 "cells": [
  {
   "cell_type": "code",
   "execution_count": 11,
   "metadata": {
    "collapsed": false
   },
   "outputs": [],
   "source": [
    "from bs4 import BeautifulSoup\n",
    "import urllib2\n",
    "import re\n",
    "from firebase import firebase"
   ]
  },
  {
   "cell_type": "code",
   "execution_count": 12,
   "metadata": {
    "collapsed": false
   },
   "outputs": [],
   "source": [
    "# Connect to firebase\n",
    "firebase = firebase.FirebaseApplication('https://crackling-torch-4312.firebaseio.com/', None)"
   ]
  },
  {
   "cell_type": "code",
   "execution_count": 13,
   "metadata": {
    "collapsed": false
   },
   "outputs": [],
   "source": [
    "# Make the soup, real quick\n",
    "quMath_url = \"http://www.scientificamerican.com/math/\"\n",
    "page_html = urllib2.urlopen(quMath_url) \n",
    "soup = BeautifulSoup(page_html)"
   ]
  },
  {
   "cell_type": "code",
   "execution_count": 14,
   "metadata": {
    "collapsed": false
   },
   "outputs": [
    {
     "name": "stdout",
     "output_type": "stream",
     "text": [
      "['What Is a Mathematical Limit?', 'Gravitational Waves: 6 Cosmic Questions They Can Tackle', 'Taming Superconductors with String Theory', 'Babylonians Tracked Jupiter with Fancy Math, Tablet Reveals', 'Quantum Weirdness Is All in Your Mind', 'Better Gut Microbiome Census through Computing', 'Powerball Lottery Winning Made Inevitable (If Not Easy)', 'Scientists Pick the Most Beautiful Equations', 'Biggest Mystery in Mathematics in Limbo after Cryptic Meeting', '<em>The Magic of Math</em> Lets You Have Your <em>Pi</em> and Eat It, Too', 'Artificial Intelligence Called In to Tackle LHC Data Deluge', 'The Most Important Number in Climate Change', 'Math Can Equal Fun', 'Attempts to Predict Terrorist Attacks Hit Limits', 'Breakthrough Prize Recipients Present Their Latest Findings [Live Video Feed]', 'By Solving the Mysteries of Shape-Shifting Spaces, Mathematician Wins $3-Million Prize', '2016 Breakthrough Prize Winners', '6 $3 -Million Breakthrough Prizes Awarded for Basic Science', 'How to Estimate Hours Left Until Sunset', 'Math Mystery: Shinichi Mochizuki and the Impenetrable Proof']\n"
     ]
    }
   ],
   "source": [
    "# Find article titles and print them\n",
    "titles = []\n",
    "for art in soup.find_all('article'):\n",
    "    titles.append(art['data-listing-title'])\n",
    "print titles"
   ]
  },
  {
   "cell_type": "code",
   "execution_count": 15,
   "metadata": {
    "collapsed": false
   },
   "outputs": [],
   "source": [
    "# Sift for article urls and print them\n",
    "# Unfortunately, the page source has double URLs so we print double, but when giving these to the db\n",
    "# it's just a simple matter of iterating over every other link\n",
    "urList=[]\n",
    "for urls in soup.find_all(href=re.compile(\"article\")):\n",
    "    urList.append(urls['href'])"
   ]
  },
  {
   "cell_type": "code",
   "execution_count": 22,
   "metadata": {
    "collapsed": false
   },
   "outputs": [
    {
     "name": "stdout",
     "output_type": "stream",
     "text": [
      "{u'name': u'-KC48Y3GyupFZAFZLqa6'}\n"
     ]
    }
   ],
   "source": [
    "result=firebase.post('/Test', titles[0])\n",
    "print result"
   ]
  },
  {
   "cell_type": "code",
   "execution_count": null,
   "metadata": {
    "collapsed": true
   },
   "outputs": [],
   "source": []
  }
 ],
 "metadata": {
  "kernelspec": {
   "display_name": "Python 2",
   "language": "python",
   "name": "python2"
  },
  "language_info": {
   "codemirror_mode": {
    "name": "ipython",
    "version": 2
   },
   "file_extension": ".py",
   "mimetype": "text/x-python",
   "name": "python",
   "nbconvert_exporter": "python",
   "pygments_lexer": "ipython2",
   "version": "2.7.10"
  }
 },
 "nbformat": 4,
 "nbformat_minor": 0
}
