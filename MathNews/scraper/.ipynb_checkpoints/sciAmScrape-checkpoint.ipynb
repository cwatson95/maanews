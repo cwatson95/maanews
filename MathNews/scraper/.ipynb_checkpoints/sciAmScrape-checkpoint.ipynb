{
 "cells": [
  {
   "cell_type": "code",
   "execution_count": 43,
   "metadata": {
    "collapsed": true
   },
   "outputs": [],
   "source": [
    "from bs4 import BeautifulSoup\n",
    "import urllib2\n",
    "import re"
   ]
  },
  {
   "cell_type": "code",
   "execution_count": 44,
   "metadata": {
    "collapsed": false
   },
   "outputs": [],
   "source": [
    "# Make the soup, real quick\n",
    "quMath_url = \"http://www.scientificamerican.com/math/\"\n",
    "page_html = urllib2.urlopen(quMath_url) \n",
    "soup = BeautifulSoup(page_html)"
   ]
  },
  {
   "cell_type": "code",
   "execution_count": 45,
   "metadata": {
    "collapsed": false
   },
   "outputs": [
    {
     "name": "stdout",
     "output_type": "stream",
     "text": [
      "['What Is a Mathematical Limit?', 'Gravitational Waves: 6 Cosmic Questions They Can Tackle', 'Taming Superconductors with String Theory', 'Babylonians Tracked Jupiter with Fancy Math, Tablet Reveals', 'Quantum Weirdness Is All in Your Mind', 'Better Gut Microbiome Census through Computing', 'Powerball Lottery Winning Made Inevitable (If Not Easy)', 'Scientists Pick the Most Beautiful Equations', 'Biggest Mystery in Mathematics in Limbo after Cryptic Meeting', '<em>The Magic of Math</em> Lets You Have Your <em>Pi</em> and Eat It, Too', 'Artificial Intelligence Called In to Tackle LHC Data Deluge', 'The Most Important Number in Climate Change', 'Math Can Equal Fun', 'Attempts to Predict Terrorist Attacks Hit Limits', 'Breakthrough Prize Recipients Present Their Latest Findings [Live Video Feed]', 'By Solving the Mysteries of Shape-Shifting Spaces, Mathematician Wins $3-Million Prize', '2016 Breakthrough Prize Winners', '6 $3 -Million Breakthrough Prizes Awarded for Basic Science', 'How to Estimate Hours Left Until Sunset', 'Math Mystery: Shinichi Mochizuki and the Impenetrable Proof']\n"
     ]
    }
   ],
   "source": [
    "# Find article titles and print them\n",
    "titles = []\n",
    "for art in soup.find_all('article'):\n",
    "    titles.append(art['data-listing-title'])\n",
    "print titles"
   ]
  },
  {
   "cell_type": "code",
   "execution_count": 48,
   "metadata": {
    "collapsed": false
   },
   "outputs": [
    {
     "name": "stdout",
     "output_type": "stream",
     "text": [
      "http://www.scientificamerican.com/article/what-is-a-mathematical-limit/\n",
      "http://www.scientificamerican.com/article/what-is-a-mathematical-limit/\n",
      "http://www.scientificamerican.com/article/gravitational-waves-6-cosmic-questions-they-can-tackle/\n",
      "http://www.scientificamerican.com/article/gravitational-waves-6-cosmic-questions-they-can-tackle/\n",
      "http://www.scientificamerican.com/article/taming-superconductors-with-string-theory/\n",
      "http://www.scientificamerican.com/article/taming-superconductors-with-string-theory/\n",
      "http://www.scientificamerican.com/article/babylonians-tracked-jupiter-with-fancy-math-tablet-reveals/\n",
      "http://www.scientificamerican.com/article/babylonians-tracked-jupiter-with-fancy-math-tablet-reveals/\n",
      "http://www.scientificamerican.com/article/quantum-weirdness-is-all-in-your-mind/\n",
      "http://www.scientificamerican.com/article/quantum-weirdness-is-all-in-your-mind/\n",
      "http://www.scientificamerican.com/article/scientists-pick-the-most-beautiful-equations/\n",
      "http://www.scientificamerican.com/article/scientists-pick-the-most-beautiful-equations/\n",
      "http://www.scientificamerican.com/article/biggest-mystery-in-mathematics-in-limbo-after-cryptic-meeting1/\n",
      "http://www.scientificamerican.com/article/biggest-mystery-in-mathematics-in-limbo-after-cryptic-meeting1/\n",
      "http://www.scientificamerican.com/article/the-magic-of-math-lets-you-have-your-pi-and-eat-it-too/\n",
      "http://www.scientificamerican.com/article/the-magic-of-math-lets-you-have-your-pi-and-eat-it-too/\n",
      "http://www.scientificamerican.com/article/artificial-intelligence-called-in-to-tackle-lhc-data-deluge/\n",
      "http://www.scientificamerican.com/article/artificial-intelligence-called-in-to-tackle-lhc-data-deluge/\n",
      "http://www.scientificamerican.com/article/the-most-important-number-in-climate-change/\n",
      "http://www.scientificamerican.com/article/the-most-important-number-in-climate-change/\n",
      "http://www.scientificamerican.com/article/attempts-to-predict-terrorist-attacks-hit-limits1/\n",
      "http://www.scientificamerican.com/article/attempts-to-predict-terrorist-attacks-hit-limits1/\n",
      "http://www.scientificamerican.com/article/breakthrough-prize-recipients-present-their-latest-findings-live-video-feed/\n",
      "http://www.scientificamerican.com/article/breakthrough-prize-recipients-present-their-latest-findings-live-video-feed/\n",
      "http://www.scientificamerican.com/article/by-solving-the-mysteries-of-shape-shifting-spaces-mathematician-wins-3-million-prize/\n",
      "http://www.scientificamerican.com/article/by-solving-the-mysteries-of-shape-shifting-spaces-mathematician-wins-3-million-prize/\n",
      "http://www.scientificamerican.com/article/6-3-million-breakthrough-prizes-awarded-for-basic-science1/\n",
      "http://www.scientificamerican.com/article/6-3-million-breakthrough-prizes-awarded-for-basic-science1/\n",
      "http://www.scientificamerican.com/article/how-to-estimate-hours-left-until-sunset/\n",
      "http://www.scientificamerican.com/article/how-to-estimate-hours-left-until-sunset/\n",
      "http://www.scientificamerican.com/article/math-mystery-shinichi-mochizuki-and-the-impenetrable-proof/\n",
      "http://www.scientificamerican.com/article/math-mystery-shinichi-mochizuki-and-the-impenetrable-proof/\n"
     ]
    }
   ],
   "source": [
    "# Sift for article urls and print them\n",
    "# Unfortunately, the page source has double URLs so we print double, but when giving these to the db\n",
    "# it's just a simple matter of iterating over every other link\n",
    "urList=[]\n",
    "for urls in soup.find_all(href=re.compile(\"article\")):\n",
    "    print(urls['href'])"
   ]
  },
  {
   "cell_type": "code",
   "execution_count": null,
   "metadata": {
    "collapsed": true
   },
   "outputs": [],
   "source": []
  }
 ],
 "metadata": {
  "kernelspec": {
   "display_name": "Python 2",
   "language": "python",
   "name": "python2"
  },
  "language_info": {
   "codemirror_mode": {
    "name": "ipython",
    "version": 2
   },
   "file_extension": ".py",
   "mimetype": "text/x-python",
   "name": "python",
   "nbconvert_exporter": "python",
   "pygments_lexer": "ipython2",
   "version": "2.7.10"
  }
 },
 "nbformat": 4,
 "nbformat_minor": 0
}
